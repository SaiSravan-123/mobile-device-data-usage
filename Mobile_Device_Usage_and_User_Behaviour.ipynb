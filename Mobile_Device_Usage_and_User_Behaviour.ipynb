{
  "cells": [
    {
      "cell_type": "markdown",
      "metadata": {
        "id": "view-in-github",
        "colab_type": "text"
      },
      "source": [
        "<a href=\"https://colab.research.google.com/github/SaiSravan-123/mobile-device-data-usage/blob/main/Mobile_Device_Usage_and_User_Behaviour.ipynb\" target=\"_parent\"><img src=\"https://colab.research.google.com/assets/colab-badge.svg\" alt=\"Open In Colab\"/></a>"
      ]
    },
    {
      "cell_type": "markdown",
      "id": "ad212968",
      "metadata": {
        "id": "ad212968"
      },
      "source": [
        "# 📊 User Behavior Data Analysis Project\n",
        "\n",
        "---\n",
        "\n",
        "This project performs an exploratory data analysis (EDA) on a user behavior dataset. We aim to understand patterns in app usage, battery drain, and device preferences among different user age groups.\n"
      ]
    },
    {
      "cell_type": "markdown",
      "id": "67230af8",
      "metadata": {
        "id": "67230af8"
      },
      "source": [
        "##  Importing Necessary Libraries"
      ]
    },
    {
      "cell_type": "code",
      "execution_count": null,
      "id": "c228cefd",
      "metadata": {
        "id": "c228cefd"
      },
      "outputs": [],
      "source": [
        "import pandas as pd\n",
        "import numpy as np\n",
        "import matplotlib.pyplot as plt\n",
        "import seaborn as sns\n",
        "!pip install pywaffle > /dev/null\n",
        "from pywaffle import Waffle\n",
        "import warnings\n",
        "warnings.filterwarnings(\"ignore\")\n",
        "\n",
        "\n",
        "# Set plot style\n",
        "sns.set(style=\"whitegrid\")"
      ]
    },
    {
      "cell_type": "markdown",
      "id": "9ce91944",
      "metadata": {
        "id": "9ce91944"
      },
      "source": [
        "##  Loading the Dataset"
      ]
    },
    {
      "cell_type": "code",
      "execution_count": null,
      "id": "f90b3c8f",
      "metadata": {
        "colab": {
          "base_uri": "https://localhost:8080/",
          "height": 484
        },
        "id": "f90b3c8f",
        "outputId": "337aef70-51a3-4005-c95f-86aabcd2e2b9"
      },
      "outputs": [
        {
          "output_type": "execute_result",
          "data": {
            "text/plain": [
              "   User ID        Device Model Operating System  App Usage Time (min/day)  \\\n",
              "0        1      Google Pixel 5          Android                       393   \n",
              "1        2           OnePlus 9          Android                       268   \n",
              "2        3        Xiaomi Mi 11          Android                       154   \n",
              "3        4      Google Pixel 5          Android                       239   \n",
              "4        5           iPhone 12              iOS                       187   \n",
              "5        6      Google Pixel 5          Android                        99   \n",
              "6        7  Samsung Galaxy S21          Android                       350   \n",
              "7        8           OnePlus 9          Android                       543   \n",
              "8        9  Samsung Galaxy S21          Android                       340   \n",
              "9       10           iPhone 12              iOS                       424   \n",
              "\n",
              "   Screen On Time (hours/day)  Battery Drain (mAh/day)  \\\n",
              "0                         6.4                     1872   \n",
              "1                         4.7                     1331   \n",
              "2                         4.0                      761   \n",
              "3                         4.8                     1676   \n",
              "4                         4.3                     1367   \n",
              "5                         2.0                      940   \n",
              "6                         7.3                     1802   \n",
              "7                        11.4                     2956   \n",
              "8                         7.7                     2138   \n",
              "9                         6.6                     1957   \n",
              "\n",
              "   Number of Apps Installed  Data Usage (MB/day)  Age  Gender  \\\n",
              "0                        67                 1122   40    Male   \n",
              "1                        42                  944   47  Female   \n",
              "2                        32                  322   42    Male   \n",
              "3                        56                  871   20    Male   \n",
              "4                        58                  988   31  Female   \n",
              "5                        35                  564   31    Male   \n",
              "6                        66                 1054   21  Female   \n",
              "7                        82                 1702   31    Male   \n",
              "8                        75                 1053   42  Female   \n",
              "9                        75                 1301   42    Male   \n",
              "\n",
              "   User Behavior Class  \n",
              "0                    4  \n",
              "1                    3  \n",
              "2                    2  \n",
              "3                    3  \n",
              "4                    3  \n",
              "5                    2  \n",
              "6                    4  \n",
              "7                    5  \n",
              "8                    4  \n",
              "9                    4  "
            ],
            "text/html": [
              "\n",
              "  <div id=\"df-039782d8-7e70-4de1-982f-a881474b15f1\" class=\"colab-df-container\">\n",
              "    <div>\n",
              "<style scoped>\n",
              "    .dataframe tbody tr th:only-of-type {\n",
              "        vertical-align: middle;\n",
              "    }\n",
              "\n",
              "    .dataframe tbody tr th {\n",
              "        vertical-align: top;\n",
              "    }\n",
              "\n",
              "    .dataframe thead th {\n",
              "        text-align: right;\n",
              "    }\n",
              "</style>\n",
              "<table border=\"1\" class=\"dataframe\">\n",
              "  <thead>\n",
              "    <tr style=\"text-align: right;\">\n",
              "      <th></th>\n",
              "      <th>User ID</th>\n",
              "      <th>Device Model</th>\n",
              "      <th>Operating System</th>\n",
              "      <th>App Usage Time (min/day)</th>\n",
              "      <th>Screen On Time (hours/day)</th>\n",
              "      <th>Battery Drain (mAh/day)</th>\n",
              "      <th>Number of Apps Installed</th>\n",
              "      <th>Data Usage (MB/day)</th>\n",
              "      <th>Age</th>\n",
              "      <th>Gender</th>\n",
              "      <th>User Behavior Class</th>\n",
              "    </tr>\n",
              "  </thead>\n",
              "  <tbody>\n",
              "    <tr>\n",
              "      <th>0</th>\n",
              "      <td>1</td>\n",
              "      <td>Google Pixel 5</td>\n",
              "      <td>Android</td>\n",
              "      <td>393</td>\n",
              "      <td>6.4</td>\n",
              "      <td>1872</td>\n",
              "      <td>67</td>\n",
              "      <td>1122</td>\n",
              "      <td>40</td>\n",
              "      <td>Male</td>\n",
              "      <td>4</td>\n",
              "    </tr>\n",
              "    <tr>\n",
              "      <th>1</th>\n",
              "      <td>2</td>\n",
              "      <td>OnePlus 9</td>\n",
              "      <td>Android</td>\n",
              "      <td>268</td>\n",
              "      <td>4.7</td>\n",
              "      <td>1331</td>\n",
              "      <td>42</td>\n",
              "      <td>944</td>\n",
              "      <td>47</td>\n",
              "      <td>Female</td>\n",
              "      <td>3</td>\n",
              "    </tr>\n",
              "    <tr>\n",
              "      <th>2</th>\n",
              "      <td>3</td>\n",
              "      <td>Xiaomi Mi 11</td>\n",
              "      <td>Android</td>\n",
              "      <td>154</td>\n",
              "      <td>4.0</td>\n",
              "      <td>761</td>\n",
              "      <td>32</td>\n",
              "      <td>322</td>\n",
              "      <td>42</td>\n",
              "      <td>Male</td>\n",
              "      <td>2</td>\n",
              "    </tr>\n",
              "    <tr>\n",
              "      <th>3</th>\n",
              "      <td>4</td>\n",
              "      <td>Google Pixel 5</td>\n",
              "      <td>Android</td>\n",
              "      <td>239</td>\n",
              "      <td>4.8</td>\n",
              "      <td>1676</td>\n",
              "      <td>56</td>\n",
              "      <td>871</td>\n",
              "      <td>20</td>\n",
              "      <td>Male</td>\n",
              "      <td>3</td>\n",
              "    </tr>\n",
              "    <tr>\n",
              "      <th>4</th>\n",
              "      <td>5</td>\n",
              "      <td>iPhone 12</td>\n",
              "      <td>iOS</td>\n",
              "      <td>187</td>\n",
              "      <td>4.3</td>\n",
              "      <td>1367</td>\n",
              "      <td>58</td>\n",
              "      <td>988</td>\n",
              "      <td>31</td>\n",
              "      <td>Female</td>\n",
              "      <td>3</td>\n",
              "    </tr>\n",
              "    <tr>\n",
              "      <th>5</th>\n",
              "      <td>6</td>\n",
              "      <td>Google Pixel 5</td>\n",
              "      <td>Android</td>\n",
              "      <td>99</td>\n",
              "      <td>2.0</td>\n",
              "      <td>940</td>\n",
              "      <td>35</td>\n",
              "      <td>564</td>\n",
              "      <td>31</td>\n",
              "      <td>Male</td>\n",
              "      <td>2</td>\n",
              "    </tr>\n",
              "    <tr>\n",
              "      <th>6</th>\n",
              "      <td>7</td>\n",
              "      <td>Samsung Galaxy S21</td>\n",
              "      <td>Android</td>\n",
              "      <td>350</td>\n",
              "      <td>7.3</td>\n",
              "      <td>1802</td>\n",
              "      <td>66</td>\n",
              "      <td>1054</td>\n",
              "      <td>21</td>\n",
              "      <td>Female</td>\n",
              "      <td>4</td>\n",
              "    </tr>\n",
              "    <tr>\n",
              "      <th>7</th>\n",
              "      <td>8</td>\n",
              "      <td>OnePlus 9</td>\n",
              "      <td>Android</td>\n",
              "      <td>543</td>\n",
              "      <td>11.4</td>\n",
              "      <td>2956</td>\n",
              "      <td>82</td>\n",
              "      <td>1702</td>\n",
              "      <td>31</td>\n",
              "      <td>Male</td>\n",
              "      <td>5</td>\n",
              "    </tr>\n",
              "    <tr>\n",
              "      <th>8</th>\n",
              "      <td>9</td>\n",
              "      <td>Samsung Galaxy S21</td>\n",
              "      <td>Android</td>\n",
              "      <td>340</td>\n",
              "      <td>7.7</td>\n",
              "      <td>2138</td>\n",
              "      <td>75</td>\n",
              "      <td>1053</td>\n",
              "      <td>42</td>\n",
              "      <td>Female</td>\n",
              "      <td>4</td>\n",
              "    </tr>\n",
              "    <tr>\n",
              "      <th>9</th>\n",
              "      <td>10</td>\n",
              "      <td>iPhone 12</td>\n",
              "      <td>iOS</td>\n",
              "      <td>424</td>\n",
              "      <td>6.6</td>\n",
              "      <td>1957</td>\n",
              "      <td>75</td>\n",
              "      <td>1301</td>\n",
              "      <td>42</td>\n",
              "      <td>Male</td>\n",
              "      <td>4</td>\n",
              "    </tr>\n",
              "  </tbody>\n",
              "</table>\n",
              "</div>\n",
              "    <div class=\"colab-df-buttons\">\n",
              "\n",
              "  <div class=\"colab-df-container\">\n",
              "    <button class=\"colab-df-convert\" onclick=\"convertToInteractive('df-039782d8-7e70-4de1-982f-a881474b15f1')\"\n",
              "            title=\"Convert this dataframe to an interactive table.\"\n",
              "            style=\"display:none;\">\n",
              "\n",
              "  <svg xmlns=\"http://www.w3.org/2000/svg\" height=\"24px\" viewBox=\"0 -960 960 960\">\n",
              "    <path d=\"M120-120v-720h720v720H120Zm60-500h600v-160H180v160Zm220 220h160v-160H400v160Zm0 220h160v-160H400v160ZM180-400h160v-160H180v160Zm440 0h160v-160H620v160ZM180-180h160v-160H180v160Zm440 0h160v-160H620v160Z\"/>\n",
              "  </svg>\n",
              "    </button>\n",
              "\n",
              "  <style>\n",
              "    .colab-df-container {\n",
              "      display:flex;\n",
              "      gap: 12px;\n",
              "    }\n",
              "\n",
              "    .colab-df-convert {\n",
              "      background-color: #E8F0FE;\n",
              "      border: none;\n",
              "      border-radius: 50%;\n",
              "      cursor: pointer;\n",
              "      display: none;\n",
              "      fill: #1967D2;\n",
              "      height: 32px;\n",
              "      padding: 0 0 0 0;\n",
              "      width: 32px;\n",
              "    }\n",
              "\n",
              "    .colab-df-convert:hover {\n",
              "      background-color: #E2EBFA;\n",
              "      box-shadow: 0px 1px 2px rgba(60, 64, 67, 0.3), 0px 1px 3px 1px rgba(60, 64, 67, 0.15);\n",
              "      fill: #174EA6;\n",
              "    }\n",
              "\n",
              "    .colab-df-buttons div {\n",
              "      margin-bottom: 4px;\n",
              "    }\n",
              "\n",
              "    [theme=dark] .colab-df-convert {\n",
              "      background-color: #3B4455;\n",
              "      fill: #D2E3FC;\n",
              "    }\n",
              "\n",
              "    [theme=dark] .colab-df-convert:hover {\n",
              "      background-color: #434B5C;\n",
              "      box-shadow: 0px 1px 3px 1px rgba(0, 0, 0, 0.15);\n",
              "      filter: drop-shadow(0px 1px 2px rgba(0, 0, 0, 0.3));\n",
              "      fill: #FFFFFF;\n",
              "    }\n",
              "  </style>\n",
              "\n",
              "    <script>\n",
              "      const buttonEl =\n",
              "        document.querySelector('#df-039782d8-7e70-4de1-982f-a881474b15f1 button.colab-df-convert');\n",
              "      buttonEl.style.display =\n",
              "        google.colab.kernel.accessAllowed ? 'block' : 'none';\n",
              "\n",
              "      async function convertToInteractive(key) {\n",
              "        const element = document.querySelector('#df-039782d8-7e70-4de1-982f-a881474b15f1');\n",
              "        const dataTable =\n",
              "          await google.colab.kernel.invokeFunction('convertToInteractive',\n",
              "                                                    [key], {});\n",
              "        if (!dataTable) return;\n",
              "\n",
              "        const docLinkHtml = 'Like what you see? Visit the ' +\n",
              "          '<a target=\"_blank\" href=https://colab.research.google.com/notebooks/data_table.ipynb>data table notebook</a>'\n",
              "          + ' to learn more about interactive tables.';\n",
              "        element.innerHTML = '';\n",
              "        dataTable['output_type'] = 'display_data';\n",
              "        await google.colab.output.renderOutput(dataTable, element);\n",
              "        const docLink = document.createElement('div');\n",
              "        docLink.innerHTML = docLinkHtml;\n",
              "        element.appendChild(docLink);\n",
              "      }\n",
              "    </script>\n",
              "  </div>\n",
              "\n",
              "\n",
              "    <div id=\"df-96e5df5d-5e6d-4e80-b258-76a80baac928\">\n",
              "      <button class=\"colab-df-quickchart\" onclick=\"quickchart('df-96e5df5d-5e6d-4e80-b258-76a80baac928')\"\n",
              "                title=\"Suggest charts\"\n",
              "                style=\"display:none;\">\n",
              "\n",
              "<svg xmlns=\"http://www.w3.org/2000/svg\" height=\"24px\"viewBox=\"0 0 24 24\"\n",
              "     width=\"24px\">\n",
              "    <g>\n",
              "        <path d=\"M19 3H5c-1.1 0-2 .9-2 2v14c0 1.1.9 2 2 2h14c1.1 0 2-.9 2-2V5c0-1.1-.9-2-2-2zM9 17H7v-7h2v7zm4 0h-2V7h2v10zm4 0h-2v-4h2v4z\"/>\n",
              "    </g>\n",
              "</svg>\n",
              "      </button>\n",
              "\n",
              "<style>\n",
              "  .colab-df-quickchart {\n",
              "      --bg-color: #E8F0FE;\n",
              "      --fill-color: #1967D2;\n",
              "      --hover-bg-color: #E2EBFA;\n",
              "      --hover-fill-color: #174EA6;\n",
              "      --disabled-fill-color: #AAA;\n",
              "      --disabled-bg-color: #DDD;\n",
              "  }\n",
              "\n",
              "  [theme=dark] .colab-df-quickchart {\n",
              "      --bg-color: #3B4455;\n",
              "      --fill-color: #D2E3FC;\n",
              "      --hover-bg-color: #434B5C;\n",
              "      --hover-fill-color: #FFFFFF;\n",
              "      --disabled-bg-color: #3B4455;\n",
              "      --disabled-fill-color: #666;\n",
              "  }\n",
              "\n",
              "  .colab-df-quickchart {\n",
              "    background-color: var(--bg-color);\n",
              "    border: none;\n",
              "    border-radius: 50%;\n",
              "    cursor: pointer;\n",
              "    display: none;\n",
              "    fill: var(--fill-color);\n",
              "    height: 32px;\n",
              "    padding: 0;\n",
              "    width: 32px;\n",
              "  }\n",
              "\n",
              "  .colab-df-quickchart:hover {\n",
              "    background-color: var(--hover-bg-color);\n",
              "    box-shadow: 0 1px 2px rgba(60, 64, 67, 0.3), 0 1px 3px 1px rgba(60, 64, 67, 0.15);\n",
              "    fill: var(--button-hover-fill-color);\n",
              "  }\n",
              "\n",
              "  .colab-df-quickchart-complete:disabled,\n",
              "  .colab-df-quickchart-complete:disabled:hover {\n",
              "    background-color: var(--disabled-bg-color);\n",
              "    fill: var(--disabled-fill-color);\n",
              "    box-shadow: none;\n",
              "  }\n",
              "\n",
              "  .colab-df-spinner {\n",
              "    border: 2px solid var(--fill-color);\n",
              "    border-color: transparent;\n",
              "    border-bottom-color: var(--fill-color);\n",
              "    animation:\n",
              "      spin 1s steps(1) infinite;\n",
              "  }\n",
              "\n",
              "  @keyframes spin {\n",
              "    0% {\n",
              "      border-color: transparent;\n",
              "      border-bottom-color: var(--fill-color);\n",
              "      border-left-color: var(--fill-color);\n",
              "    }\n",
              "    20% {\n",
              "      border-color: transparent;\n",
              "      border-left-color: var(--fill-color);\n",
              "      border-top-color: var(--fill-color);\n",
              "    }\n",
              "    30% {\n",
              "      border-color: transparent;\n",
              "      border-left-color: var(--fill-color);\n",
              "      border-top-color: var(--fill-color);\n",
              "      border-right-color: var(--fill-color);\n",
              "    }\n",
              "    40% {\n",
              "      border-color: transparent;\n",
              "      border-right-color: var(--fill-color);\n",
              "      border-top-color: var(--fill-color);\n",
              "    }\n",
              "    60% {\n",
              "      border-color: transparent;\n",
              "      border-right-color: var(--fill-color);\n",
              "    }\n",
              "    80% {\n",
              "      border-color: transparent;\n",
              "      border-right-color: var(--fill-color);\n",
              "      border-bottom-color: var(--fill-color);\n",
              "    }\n",
              "    90% {\n",
              "      border-color: transparent;\n",
              "      border-bottom-color: var(--fill-color);\n",
              "    }\n",
              "  }\n",
              "</style>\n",
              "\n",
              "      <script>\n",
              "        async function quickchart(key) {\n",
              "          const quickchartButtonEl =\n",
              "            document.querySelector('#' + key + ' button');\n",
              "          quickchartButtonEl.disabled = true;  // To prevent multiple clicks.\n",
              "          quickchartButtonEl.classList.add('colab-df-spinner');\n",
              "          try {\n",
              "            const charts = await google.colab.kernel.invokeFunction(\n",
              "                'suggestCharts', [key], {});\n",
              "          } catch (error) {\n",
              "            console.error('Error during call to suggestCharts:', error);\n",
              "          }\n",
              "          quickchartButtonEl.classList.remove('colab-df-spinner');\n",
              "          quickchartButtonEl.classList.add('colab-df-quickchart-complete');\n",
              "        }\n",
              "        (() => {\n",
              "          let quickchartButtonEl =\n",
              "            document.querySelector('#df-96e5df5d-5e6d-4e80-b258-76a80baac928 button');\n",
              "          quickchartButtonEl.style.display =\n",
              "            google.colab.kernel.accessAllowed ? 'block' : 'none';\n",
              "        })();\n",
              "      </script>\n",
              "    </div>\n",
              "\n",
              "    </div>\n",
              "  </div>\n"
            ],
            "application/vnd.google.colaboratory.intrinsic+json": {
              "type": "dataframe",
              "variable_name": "df",
              "summary": "{\n  \"name\": \"df\",\n  \"rows\": 700,\n  \"fields\": [\n    {\n      \"column\": \"User ID\",\n      \"properties\": {\n        \"dtype\": \"number\",\n        \"std\": 202,\n        \"min\": 1,\n        \"max\": 700,\n        \"num_unique_values\": 700,\n        \"samples\": [\n          159,\n          501,\n          397\n        ],\n        \"semantic_type\": \"\",\n        \"description\": \"\"\n      }\n    },\n    {\n      \"column\": \"Device Model\",\n      \"properties\": {\n        \"dtype\": \"category\",\n        \"num_unique_values\": 5,\n        \"samples\": [\n          \"OnePlus 9\",\n          \"Samsung Galaxy S21\",\n          \"Xiaomi Mi 11\"\n        ],\n        \"semantic_type\": \"\",\n        \"description\": \"\"\n      }\n    },\n    {\n      \"column\": \"Operating System\",\n      \"properties\": {\n        \"dtype\": \"category\",\n        \"num_unique_values\": 2,\n        \"samples\": [\n          \"iOS\",\n          \"Android\"\n        ],\n        \"semantic_type\": \"\",\n        \"description\": \"\"\n      }\n    },\n    {\n      \"column\": \"App Usage Time (min/day)\",\n      \"properties\": {\n        \"dtype\": \"number\",\n        \"std\": 177,\n        \"min\": 30,\n        \"max\": 598,\n        \"num_unique_values\": 387,\n        \"samples\": [\n          582,\n          402\n        ],\n        \"semantic_type\": \"\",\n        \"description\": \"\"\n      }\n    },\n    {\n      \"column\": \"Screen On Time (hours/day)\",\n      \"properties\": {\n        \"dtype\": \"number\",\n        \"std\": 3.068583910273257,\n        \"min\": 1.0,\n        \"max\": 12.0,\n        \"num_unique_values\": 108,\n        \"samples\": [\n          10.8,\n          1.4\n        ],\n        \"semantic_type\": \"\",\n        \"description\": \"\"\n      }\n    },\n    {\n      \"column\": \"Battery Drain (mAh/day)\",\n      \"properties\": {\n        \"dtype\": \"number\",\n        \"std\": 819,\n        \"min\": 302,\n        \"max\": 2993,\n        \"num_unique_values\": 628,\n        \"samples\": [\n          2597,\n          1632\n        ],\n        \"semantic_type\": \"\",\n        \"description\": \"\"\n      }\n    },\n    {\n      \"column\": \"Number of Apps Installed\",\n      \"properties\": {\n        \"dtype\": \"number\",\n        \"std\": 26,\n        \"min\": 10,\n        \"max\": 99,\n        \"num_unique_values\": 86,\n        \"samples\": [\n          79,\n          67\n        ],\n        \"semantic_type\": \"\",\n        \"description\": \"\"\n      }\n    },\n    {\n      \"column\": \"Data Usage (MB/day)\",\n      \"properties\": {\n        \"dtype\": \"number\",\n        \"std\": 640,\n        \"min\": 102,\n        \"max\": 2497,\n        \"num_unique_values\": 585,\n        \"samples\": [\n          839,\n          765\n        ],\n        \"semantic_type\": \"\",\n        \"description\": \"\"\n      }\n    },\n    {\n      \"column\": \"Age\",\n      \"properties\": {\n        \"dtype\": \"number\",\n        \"std\": 12,\n        \"min\": 18,\n        \"max\": 59,\n        \"num_unique_values\": 42,\n        \"samples\": [\n          56,\n          26\n        ],\n        \"semantic_type\": \"\",\n        \"description\": \"\"\n      }\n    },\n    {\n      \"column\": \"Gender\",\n      \"properties\": {\n        \"dtype\": \"category\",\n        \"num_unique_values\": 2,\n        \"samples\": [\n          \"Female\",\n          \"Male\"\n        ],\n        \"semantic_type\": \"\",\n        \"description\": \"\"\n      }\n    },\n    {\n      \"column\": \"User Behavior Class\",\n      \"properties\": {\n        \"dtype\": \"number\",\n        \"std\": 1,\n        \"min\": 1,\n        \"max\": 5,\n        \"num_unique_values\": 5,\n        \"samples\": [\n          3,\n          1\n        ],\n        \"semantic_type\": \"\",\n        \"description\": \"\"\n      }\n    }\n  ]\n}"
            }
          },
          "metadata": {},
          "execution_count": 5
        }
      ],
      "source": [
        "\n",
        "# Load the user behavior dataset\n",
        "df = pd.read_csv('/content/user_behavior_dataset.csv')\n",
        "\n",
        "# Display the first few rows\n",
        "df.head(10)\n"
      ]
    },
    {
      "cell_type": "markdown",
      "id": "8e2bc764",
      "metadata": {
        "id": "8e2bc764"
      },
      "source": [
        "##  Dataset Information"
      ]
    },
    {
      "cell_type": "code",
      "execution_count": null,
      "id": "7d9cef20",
      "metadata": {
        "colab": {
          "base_uri": "https://localhost:8080/"
        },
        "id": "7d9cef20",
        "outputId": "c0259561-50ea-4e49-e711-e19f6d5bd5fd"
      },
      "outputs": [
        {
          "output_type": "stream",
          "name": "stdout",
          "text": [
            "<class 'pandas.core.frame.DataFrame'>\n",
            "RangeIndex: 700 entries, 0 to 699\n",
            "Data columns (total 11 columns):\n",
            " #   Column                      Non-Null Count  Dtype  \n",
            "---  ------                      --------------  -----  \n",
            " 0   User ID                     700 non-null    int64  \n",
            " 1   Device Model                700 non-null    object \n",
            " 2   Operating System            700 non-null    object \n",
            " 3   App Usage Time (min/day)    700 non-null    int64  \n",
            " 4   Screen On Time (hours/day)  700 non-null    float64\n",
            " 5   Battery Drain (mAh/day)     700 non-null    int64  \n",
            " 6   Number of Apps Installed    700 non-null    int64  \n",
            " 7   Data Usage (MB/day)         700 non-null    int64  \n",
            " 8   Age                         700 non-null    int64  \n",
            " 9   Gender                      700 non-null    object \n",
            " 10  User Behavior Class         700 non-null    int64  \n",
            "dtypes: float64(1), int64(7), object(3)\n",
            "memory usage: 60.3+ KB\n"
          ]
        }
      ],
      "source": [
        "\n",
        "# Overview of dataset\n",
        "df.info()\n"
      ]
    },
    {
      "cell_type": "code",
      "execution_count": null,
      "id": "025ed0ab",
      "metadata": {
        "colab": {
          "base_uri": "https://localhost:8080/",
          "height": 317
        },
        "id": "025ed0ab",
        "outputId": "1fe208c7-9c07-48e0-d92b-cb420eb85a0f"
      },
      "outputs": [
        {
          "output_type": "execute_result",
          "data": {
            "text/plain": [
              "<pandas.io.formats.style.Styler at 0x7a0102af4690>"
            ],
            "text/html": [
              "<style type=\"text/css\">\n",
              "#T_aadc6_row0_col0, #T_aadc6_row0_col1, #T_aadc6_row0_col2, #T_aadc6_row0_col4, #T_aadc6_row0_col6, #T_aadc6_row0_col7, #T_aadc6_row7_col0, #T_aadc6_row7_col3, #T_aadc6_row7_col5 {\n",
              "  background-color: #4d004b;\n",
              "  color: #f1f1f1;\n",
              "}\n",
              "#T_aadc6_row0_col3 {\n",
              "  background-color: #dbe8f2;\n",
              "  color: #000000;\n",
              "}\n",
              "#T_aadc6_row0_col5 {\n",
              "  background-color: #c0d4e6;\n",
              "  color: #000000;\n",
              "}\n",
              "#T_aadc6_row1_col0, #T_aadc6_row5_col0 {\n",
              "  background-color: #8c95c6;\n",
              "  color: #f1f1f1;\n",
              "}\n",
              "#T_aadc6_row1_col1 {\n",
              "  background-color: #a2bfdb;\n",
              "  color: #000000;\n",
              "}\n",
              "#T_aadc6_row1_col2, #T_aadc6_row5_col2, #T_aadc6_row6_col7, #T_aadc6_row7_col7 {\n",
              "  background-color: #f6fbfd;\n",
              "  color: #000000;\n",
              "}\n",
              "#T_aadc6_row1_col3 {\n",
              "  background-color: #92a4cd;\n",
              "  color: #f1f1f1;\n",
              "}\n",
              "#T_aadc6_row1_col4 {\n",
              "  background-color: #ecf4f9;\n",
              "  color: #000000;\n",
              "}\n",
              "#T_aadc6_row1_col5 {\n",
              "  background-color: #a6c2dd;\n",
              "  color: #000000;\n",
              "}\n",
              "#T_aadc6_row1_col6, #T_aadc6_row5_col6 {\n",
              "  background-color: #f1f7fa;\n",
              "  color: #000000;\n",
              "}\n",
              "#T_aadc6_row1_col7, #T_aadc6_row2_col2, #T_aadc6_row2_col6, #T_aadc6_row2_col7, #T_aadc6_row3_col0, #T_aadc6_row3_col1, #T_aadc6_row3_col2, #T_aadc6_row3_col3, #T_aadc6_row3_col4, #T_aadc6_row3_col5, #T_aadc6_row3_col7, #T_aadc6_row4_col2, #T_aadc6_row4_col7, #T_aadc6_row5_col7 {\n",
              "  background-color: #f7fcfd;\n",
              "  color: #000000;\n",
              "}\n",
              "#T_aadc6_row2_col0 {\n",
              "  background-color: #b5cce3;\n",
              "  color: #000000;\n",
              "}\n",
              "#T_aadc6_row2_col1 {\n",
              "  background-color: #c7d9e9;\n",
              "  color: #000000;\n",
              "}\n",
              "#T_aadc6_row2_col3 {\n",
              "  background-color: #cedfec;\n",
              "  color: #000000;\n",
              "}\n",
              "#T_aadc6_row2_col4 {\n",
              "  background-color: #f3f9fb;\n",
              "  color: #000000;\n",
              "}\n",
              "#T_aadc6_row2_col5 {\n",
              "  background-color: #c6d8e9;\n",
              "  color: #000000;\n",
              "}\n",
              "#T_aadc6_row3_col6, #T_aadc6_row6_col2 {\n",
              "  background-color: #f6fbfc;\n",
              "  color: #000000;\n",
              "}\n",
              "#T_aadc6_row4_col0 {\n",
              "  background-color: #bfd3e6;\n",
              "  color: #000000;\n",
              "}\n",
              "#T_aadc6_row4_col1 {\n",
              "  background-color: #e1ecf4;\n",
              "  color: #000000;\n",
              "}\n",
              "#T_aadc6_row4_col3 {\n",
              "  background-color: #d9e6f1;\n",
              "  color: #000000;\n",
              "}\n",
              "#T_aadc6_row4_col4, #T_aadc6_row4_col6 {\n",
              "  background-color: #f3f9fc;\n",
              "  color: #000000;\n",
              "}\n",
              "#T_aadc6_row4_col5 {\n",
              "  background-color: #e3eef5;\n",
              "  color: #000000;\n",
              "}\n",
              "#T_aadc6_row5_col1 {\n",
              "  background-color: #b3cbe2;\n",
              "  color: #000000;\n",
              "}\n",
              "#T_aadc6_row5_col3 {\n",
              "  background-color: #94a6ce;\n",
              "  color: #f1f1f1;\n",
              "}\n",
              "#T_aadc6_row5_col4 {\n",
              "  background-color: #edf5f9;\n",
              "  color: #000000;\n",
              "}\n",
              "#T_aadc6_row5_col5 {\n",
              "  background-color: #b1c9e1;\n",
              "  color: #000000;\n",
              "}\n",
              "#T_aadc6_row6_col0 {\n",
              "  background-color: #88409c;\n",
              "  color: #f1f1f1;\n",
              "}\n",
              "#T_aadc6_row6_col1 {\n",
              "  background-color: #8c72b5;\n",
              "  color: #f1f1f1;\n",
              "}\n",
              "#T_aadc6_row6_col3 {\n",
              "  background-color: #894ca2;\n",
              "  color: #f1f1f1;\n",
              "}\n",
              "#T_aadc6_row6_col4 {\n",
              "  background-color: #e6f0f7;\n",
              "  color: #000000;\n",
              "}\n",
              "#T_aadc6_row6_col5 {\n",
              "  background-color: #8c90c3;\n",
              "  color: #f1f1f1;\n",
              "}\n",
              "#T_aadc6_row6_col6 {\n",
              "  background-color: #eef5f9;\n",
              "  color: #000000;\n",
              "}\n",
              "#T_aadc6_row7_col1 {\n",
              "  background-color: #821982;\n",
              "  color: #f1f1f1;\n",
              "}\n",
              "#T_aadc6_row7_col2 {\n",
              "  background-color: #f4fafc;\n",
              "  color: #000000;\n",
              "}\n",
              "#T_aadc6_row7_col4 {\n",
              "  background-color: #dfebf4;\n",
              "  color: #000000;\n",
              "}\n",
              "#T_aadc6_row7_col6 {\n",
              "  background-color: #ebf3f8;\n",
              "  color: #000000;\n",
              "}\n",
              "</style>\n",
              "<table id=\"T_aadc6\" class=\"dataframe\">\n",
              "  <thead>\n",
              "    <tr>\n",
              "      <th class=\"blank level0\" >&nbsp;</th>\n",
              "      <th id=\"T_aadc6_level0_col0\" class=\"col_heading level0 col0\" >User ID</th>\n",
              "      <th id=\"T_aadc6_level0_col1\" class=\"col_heading level0 col1\" >App Usage Time (min/day)</th>\n",
              "      <th id=\"T_aadc6_level0_col2\" class=\"col_heading level0 col2\" >Screen On Time (hours/day)</th>\n",
              "      <th id=\"T_aadc6_level0_col3\" class=\"col_heading level0 col3\" >Battery Drain (mAh/day)</th>\n",
              "      <th id=\"T_aadc6_level0_col4\" class=\"col_heading level0 col4\" >Number of Apps Installed</th>\n",
              "      <th id=\"T_aadc6_level0_col5\" class=\"col_heading level0 col5\" >Data Usage (MB/day)</th>\n",
              "      <th id=\"T_aadc6_level0_col6\" class=\"col_heading level0 col6\" >Age</th>\n",
              "      <th id=\"T_aadc6_level0_col7\" class=\"col_heading level0 col7\" >User Behavior Class</th>\n",
              "    </tr>\n",
              "  </thead>\n",
              "  <tbody>\n",
              "    <tr>\n",
              "      <th id=\"T_aadc6_level0_row0\" class=\"row_heading level0 row0\" >count</th>\n",
              "      <td id=\"T_aadc6_row0_col0\" class=\"data row0 col0\" >700.000000</td>\n",
              "      <td id=\"T_aadc6_row0_col1\" class=\"data row0 col1\" >700.000000</td>\n",
              "      <td id=\"T_aadc6_row0_col2\" class=\"data row0 col2\" >700.000000</td>\n",
              "      <td id=\"T_aadc6_row0_col3\" class=\"data row0 col3\" >700.000000</td>\n",
              "      <td id=\"T_aadc6_row0_col4\" class=\"data row0 col4\" >700.000000</td>\n",
              "      <td id=\"T_aadc6_row0_col5\" class=\"data row0 col5\" >700.000000</td>\n",
              "      <td id=\"T_aadc6_row0_col6\" class=\"data row0 col6\" >700.000000</td>\n",
              "      <td id=\"T_aadc6_row0_col7\" class=\"data row0 col7\" >700.000000</td>\n",
              "    </tr>\n",
              "    <tr>\n",
              "      <th id=\"T_aadc6_level0_row1\" class=\"row_heading level0 row1\" >mean</th>\n",
              "      <td id=\"T_aadc6_row1_col0\" class=\"data row1 col0\" >350.500000</td>\n",
              "      <td id=\"T_aadc6_row1_col1\" class=\"data row1 col1\" >271.128571</td>\n",
              "      <td id=\"T_aadc6_row1_col2\" class=\"data row1 col2\" >5.272714</td>\n",
              "      <td id=\"T_aadc6_row1_col3\" class=\"data row1 col3\" >1525.158571</td>\n",
              "      <td id=\"T_aadc6_row1_col4\" class=\"data row1 col4\" >50.681429</td>\n",
              "      <td id=\"T_aadc6_row1_col5\" class=\"data row1 col5\" >929.742857</td>\n",
              "      <td id=\"T_aadc6_row1_col6\" class=\"data row1 col6\" >38.482857</td>\n",
              "      <td id=\"T_aadc6_row1_col7\" class=\"data row1 col7\" >2.990000</td>\n",
              "    </tr>\n",
              "    <tr>\n",
              "      <th id=\"T_aadc6_level0_row2\" class=\"row_heading level0 row2\" >std</th>\n",
              "      <td id=\"T_aadc6_row2_col0\" class=\"data row2 col0\" >202.216880</td>\n",
              "      <td id=\"T_aadc6_row2_col1\" class=\"data row2 col1\" >177.199484</td>\n",
              "      <td id=\"T_aadc6_row2_col2\" class=\"data row2 col2\" >3.068584</td>\n",
              "      <td id=\"T_aadc6_row2_col3\" class=\"data row2 col3\" >819.136414</td>\n",
              "      <td id=\"T_aadc6_row2_col4\" class=\"data row2 col4\" >26.943324</td>\n",
              "      <td id=\"T_aadc6_row2_col5\" class=\"data row2 col5\" >640.451729</td>\n",
              "      <td id=\"T_aadc6_row2_col6\" class=\"data row2 col6\" >12.012916</td>\n",
              "      <td id=\"T_aadc6_row2_col7\" class=\"data row2 col7\" >1.401476</td>\n",
              "    </tr>\n",
              "    <tr>\n",
              "      <th id=\"T_aadc6_level0_row3\" class=\"row_heading level0 row3\" >min</th>\n",
              "      <td id=\"T_aadc6_row3_col0\" class=\"data row3 col0\" >1.000000</td>\n",
              "      <td id=\"T_aadc6_row3_col1\" class=\"data row3 col1\" >30.000000</td>\n",
              "      <td id=\"T_aadc6_row3_col2\" class=\"data row3 col2\" >1.000000</td>\n",
              "      <td id=\"T_aadc6_row3_col3\" class=\"data row3 col3\" >302.000000</td>\n",
              "      <td id=\"T_aadc6_row3_col4\" class=\"data row3 col4\" >10.000000</td>\n",
              "      <td id=\"T_aadc6_row3_col5\" class=\"data row3 col5\" >102.000000</td>\n",
              "      <td id=\"T_aadc6_row3_col6\" class=\"data row3 col6\" >18.000000</td>\n",
              "      <td id=\"T_aadc6_row3_col7\" class=\"data row3 col7\" >1.000000</td>\n",
              "    </tr>\n",
              "    <tr>\n",
              "      <th id=\"T_aadc6_level0_row4\" class=\"row_heading level0 row4\" >25%</th>\n",
              "      <td id=\"T_aadc6_row4_col0\" class=\"data row4 col0\" >175.750000</td>\n",
              "      <td id=\"T_aadc6_row4_col1\" class=\"data row4 col1\" >113.250000</td>\n",
              "      <td id=\"T_aadc6_row4_col2\" class=\"data row4 col2\" >2.500000</td>\n",
              "      <td id=\"T_aadc6_row4_col3\" class=\"data row4 col3\" >722.250000</td>\n",
              "      <td id=\"T_aadc6_row4_col4\" class=\"data row4 col4\" >26.000000</td>\n",
              "      <td id=\"T_aadc6_row4_col5\" class=\"data row4 col5\" >373.000000</td>\n",
              "      <td id=\"T_aadc6_row4_col6\" class=\"data row4 col6\" >28.000000</td>\n",
              "      <td id=\"T_aadc6_row4_col7\" class=\"data row4 col7\" >2.000000</td>\n",
              "    </tr>\n",
              "    <tr>\n",
              "      <th id=\"T_aadc6_level0_row5\" class=\"row_heading level0 row5\" >50%</th>\n",
              "      <td id=\"T_aadc6_row5_col0\" class=\"data row5 col0\" >350.500000</td>\n",
              "      <td id=\"T_aadc6_row5_col1\" class=\"data row5 col1\" >227.500000</td>\n",
              "      <td id=\"T_aadc6_row5_col2\" class=\"data row5 col2\" >4.900000</td>\n",
              "      <td id=\"T_aadc6_row5_col3\" class=\"data row5 col3\" >1502.500000</td>\n",
              "      <td id=\"T_aadc6_row5_col4\" class=\"data row5 col4\" >49.000000</td>\n",
              "      <td id=\"T_aadc6_row5_col5\" class=\"data row5 col5\" >823.500000</td>\n",
              "      <td id=\"T_aadc6_row5_col6\" class=\"data row5 col6\" >38.000000</td>\n",
              "      <td id=\"T_aadc6_row5_col7\" class=\"data row5 col7\" >3.000000</td>\n",
              "    </tr>\n",
              "    <tr>\n",
              "      <th id=\"T_aadc6_level0_row6\" class=\"row_heading level0 row6\" >75%</th>\n",
              "      <td id=\"T_aadc6_row6_col0\" class=\"data row6 col0\" >525.250000</td>\n",
              "      <td id=\"T_aadc6_row6_col1\" class=\"data row6 col1\" >434.250000</td>\n",
              "      <td id=\"T_aadc6_row6_col2\" class=\"data row6 col2\" >7.400000</td>\n",
              "      <td id=\"T_aadc6_row6_col3\" class=\"data row6 col3\" >2229.500000</td>\n",
              "      <td id=\"T_aadc6_row6_col4\" class=\"data row6 col4\" >74.000000</td>\n",
              "      <td id=\"T_aadc6_row6_col5\" class=\"data row6 col5\" >1341.000000</td>\n",
              "      <td id=\"T_aadc6_row6_col6\" class=\"data row6 col6\" >49.000000</td>\n",
              "      <td id=\"T_aadc6_row6_col7\" class=\"data row6 col7\" >4.000000</td>\n",
              "    </tr>\n",
              "    <tr>\n",
              "      <th id=\"T_aadc6_level0_row7\" class=\"row_heading level0 row7\" >max</th>\n",
              "      <td id=\"T_aadc6_row7_col0\" class=\"data row7 col0\" >700.000000</td>\n",
              "      <td id=\"T_aadc6_row7_col1\" class=\"data row7 col1\" >598.000000</td>\n",
              "      <td id=\"T_aadc6_row7_col2\" class=\"data row7 col2\" >12.000000</td>\n",
              "      <td id=\"T_aadc6_row7_col3\" class=\"data row7 col3\" >2993.000000</td>\n",
              "      <td id=\"T_aadc6_row7_col4\" class=\"data row7 col4\" >99.000000</td>\n",
              "      <td id=\"T_aadc6_row7_col5\" class=\"data row7 col5\" >2497.000000</td>\n",
              "      <td id=\"T_aadc6_row7_col6\" class=\"data row7 col6\" >59.000000</td>\n",
              "      <td id=\"T_aadc6_row7_col7\" class=\"data row7 col7\" >5.000000</td>\n",
              "    </tr>\n",
              "  </tbody>\n",
              "</table>\n"
            ]
          },
          "metadata": {},
          "execution_count": 7
        }
      ],
      "source": [
        "\n",
        "# Basic statistical summary\n",
        "df.describe(exclude='object').style.background_gradient(cmap='BuPu')\n"
      ]
    },
    {
      "cell_type": "code",
      "execution_count": null,
      "id": "4b750412",
      "metadata": {
        "colab": {
          "base_uri": "https://localhost:8080/",
          "height": 175
        },
        "id": "4b750412",
        "outputId": "8d942ae3-10a5-4609-b779-6199eb3cf3a5"
      },
      "outputs": [
        {
          "output_type": "execute_result",
          "data": {
            "text/plain": [
              "<pandas.io.formats.style.Styler at 0x7a01018c5bd0>"
            ],
            "text/html": [
              "<style type=\"text/css\">\n",
              "#T_5a916_row0_col0, #T_5a916_row0_col1, #T_5a916_row0_col2, #T_5a916_row1_col0, #T_5a916_row1_col1, #T_5a916_row1_col2, #T_5a916_row2_col0, #T_5a916_row2_col1, #T_5a916_row2_col2, #T_5a916_row3_col0, #T_5a916_row3_col1, #T_5a916_row3_col2 {\n",
              "  background-color: #4A235A;\n",
              "  color: #E2EEF3;\n",
              "}\n",
              "</style>\n",
              "<table id=\"T_5a916\" class=\"dataframe\">\n",
              "  <thead>\n",
              "    <tr>\n",
              "      <th class=\"blank level0\" >&nbsp;</th>\n",
              "      <th id=\"T_5a916_level0_col0\" class=\"col_heading level0 col0\" >Device Model</th>\n",
              "      <th id=\"T_5a916_level0_col1\" class=\"col_heading level0 col1\" >Operating System</th>\n",
              "      <th id=\"T_5a916_level0_col2\" class=\"col_heading level0 col2\" >Gender</th>\n",
              "    </tr>\n",
              "  </thead>\n",
              "  <tbody>\n",
              "    <tr>\n",
              "      <th id=\"T_5a916_level0_row0\" class=\"row_heading level0 row0\" >count</th>\n",
              "      <td id=\"T_5a916_row0_col0\" class=\"data row0 col0\" >700</td>\n",
              "      <td id=\"T_5a916_row0_col1\" class=\"data row0 col1\" >700</td>\n",
              "      <td id=\"T_5a916_row0_col2\" class=\"data row0 col2\" >700</td>\n",
              "    </tr>\n",
              "    <tr>\n",
              "      <th id=\"T_5a916_level0_row1\" class=\"row_heading level0 row1\" >unique</th>\n",
              "      <td id=\"T_5a916_row1_col0\" class=\"data row1 col0\" >5</td>\n",
              "      <td id=\"T_5a916_row1_col1\" class=\"data row1 col1\" >2</td>\n",
              "      <td id=\"T_5a916_row1_col2\" class=\"data row1 col2\" >2</td>\n",
              "    </tr>\n",
              "    <tr>\n",
              "      <th id=\"T_5a916_level0_row2\" class=\"row_heading level0 row2\" >top</th>\n",
              "      <td id=\"T_5a916_row2_col0\" class=\"data row2 col0\" >Xiaomi Mi 11</td>\n",
              "      <td id=\"T_5a916_row2_col1\" class=\"data row2 col1\" >Android</td>\n",
              "      <td id=\"T_5a916_row2_col2\" class=\"data row2 col2\" >Male</td>\n",
              "    </tr>\n",
              "    <tr>\n",
              "      <th id=\"T_5a916_level0_row3\" class=\"row_heading level0 row3\" >freq</th>\n",
              "      <td id=\"T_5a916_row3_col0\" class=\"data row3 col0\" >146</td>\n",
              "      <td id=\"T_5a916_row3_col1\" class=\"data row3 col1\" >554</td>\n",
              "      <td id=\"T_5a916_row3_col2\" class=\"data row3 col2\" >364</td>\n",
              "    </tr>\n",
              "  </tbody>\n",
              "</table>\n"
            ]
          },
          "metadata": {},
          "execution_count": 8
        }
      ],
      "source": [
        "\n",
        "# Categorical data summary\n",
        "df.describe(exclude=['float', 'int64']).style.set_properties(**{'background-color': '#4A235A', 'color': '#E2EEF3'})\n"
      ]
    },
    {
      "cell_type": "markdown",
      "id": "b60599f5",
      "metadata": {
        "id": "b60599f5"
      },
      "source": [
        "##  Feature Engineering"
      ]
    },
    {
      "cell_type": "code",
      "execution_count": null,
      "id": "e6a092b4",
      "metadata": {
        "id": "e6a092b4"
      },
      "outputs": [],
      "source": [
        "\n",
        "# Creating Age Groups\n",
        "age_bins = pd.cut(df['Age'], bins=[0, 18, 30, 50, 80], labels=['Children', 'Young Adults', 'Adults', 'Seniors'])\n",
        "df['Age Group'] = age_bins\n",
        "\n",
        "# Categorizing device models\n",
        "conditions = [\n",
        "    (df['Device Model'].str.contains('Samsung', case=False)),\n",
        "    (df['Device Model'].str.contains('iPhone', case=False)),\n",
        "    (df['Device Model'].str.contains('Huawei', case=False))\n",
        "]\n",
        "choices = ['Samsung', 'iPhone', 'Huawei']\n",
        "df['Device Brand'] = np.select(conditions, choices, default='Other')\n"
      ]
    },
    {
      "cell_type": "markdown",
      "id": "87bd25ca",
      "metadata": {
        "id": "87bd25ca"
      },
      "source": [
        "##  Data Visualization"
      ]
    },
    {
      "cell_type": "markdown",
      "id": "196487d0",
      "metadata": {
        "id": "196487d0"
      },
      "source": [
        "###  Age Group Distribution"
      ]
    },
    {
      "cell_type": "code",
      "execution_count": null,
      "id": "29ccf871",
      "metadata": {
        "colab": {
          "base_uri": "https://localhost:8080/",
          "height": 496
        },
        "id": "29ccf871",
        "outputId": "76487e47-6274-46f7-8340-9ea5df3751c7"
      },
      "outputs": [
        {
          "output_type": "display_data",
          "data": {
            "text/plain": [
              "<Figure size 800x500 with 1 Axes>"
            ],
            "image/png": "[encoded data removed]"
          },
          "metadata": {}
        }
      ],
      "source": [
        "\n",
        "plt.figure(figsize=(8,5))\n",
        "sns.countplot(x='Age Group', data=df, palette='viridis')\n",
        "plt.title('Age Group Distribution')\n",
        "plt.xlabel('Age Group')\n",
        "plt.ylabel('Count')\n",
        "plt.show()\n"
      ]
    },
    {
      "cell_type": "markdown",
      "id": "72776209",
      "metadata": {
        "id": "72776209"
      },
      "source": [
        "###  Device Brand Distribution"
      ]
    },
    {
      "cell_type": "code",
      "execution_count": null,
      "id": "687a1026",
      "metadata": {
        "colab": {
          "base_uri": "https://localhost:8080/",
          "height": 173
        },
        "id": "687a1026",
        "outputId": "01804113-997d-41e9-c2e3-4233b2f392e2"
      },
      "outputs": [
        {
          "output_type": "display_data",
          "data": {
            "text/plain": [
              "<Waffle size 640x480 with 1 Axes>"
            ],
            "image/png": "[encoded data removed]"
          },
          "metadata": {}
        }
      ],
      "source": [
        "# Device Brand Distribution (fixed)\n",
        "brand_counts = df['Device Brand'].value_counts()\n",
        "brand_colors = sns.color_palette('pastel', n_colors=len(brand_counts))  # Dynamically choose colors\n",
        "\n",
        "fig = plt.figure(\n",
        "    FigureClass=Waffle,\n",
        "    rows=5,\n",
        "    columns=20,\n",
        "    values=brand_counts.to_dict(),\n",
        "    colors=brand_colors,\n",
        "    title={'label': 'Device Brand Distribution', 'loc': 'center'},\n",
        "    legend={'loc': 'upper left', 'bbox_to_anchor': (1, 1)}\n",
        ")\n",
        "plt.show()\n"
      ]
    },
    {
      "cell_type": "markdown",
      "id": "87b07061",
      "metadata": {
        "id": "87b07061"
      },
      "source": [
        "###  App Usage Time Analysis"
      ]
    },
    {
      "cell_type": "code",
      "execution_count": null,
      "id": "e88e8611",
      "metadata": {
        "colab": {
          "base_uri": "https://localhost:8080/",
          "height": 573
        },
        "id": "e88e8611",
        "outputId": "34b99210-0b27-4b4a-e3e0-faef01708e59"
      },
      "outputs": [
        {
          "output_type": "display_data",
          "data": {
            "text/plain": [
              "<Figure size 1000x600 with 1 Axes>"
            ],
            "image/png": "[encoded data removed]"
          },
          "metadata": {}
        }
      ],
      "source": [
        "\n",
        "plt.figure(figsize=(10,6))\n",
        "sns.histplot(df['App Usage Time (min/day)'], kde=True, color='coral')\n",
        "plt.title('Distribution of App Usage Time (min/day)')\n",
        "plt.xlabel('App Usage Time (min/day)')\n",
        "plt.ylabel('Frequency')\n",
        "plt.show()\n"
      ]
    },
    {
      "cell_type": "markdown",
      "id": "b6ba8eaa",
      "metadata": {
        "id": "b6ba8eaa"
      },
      "source": [
        "###  Battery Drain Analysis"
      ]
    },
    {
      "cell_type": "code",
      "execution_count": null,
      "id": "08403ce6",
      "metadata": {
        "colab": {
          "base_uri": "https://localhost:8080/",
          "height": 573
        },
        "id": "08403ce6",
        "outputId": "6915a130-d933-41c4-9771-1951285bc6c9"
      },
      "outputs": [
        {
          "output_type": "display_data",
          "data": {
            "text/plain": [
              "<Figure size 1000x600 with 1 Axes>"
            ],
            "image/png": "[encoded data removed]"
          },
          "metadata": {}
        }
      ],
      "source": [
        "\n",
        "plt.figure(figsize=(10,6))\n",
        "sns.histplot(df['Battery Drain (mAh/day)'], kde=True, color='teal')\n",
        "plt.title('Distribution of Battery Drain (mAh/day)')\n",
        "plt.xlabel('Battery Drain (mAh/day)')\n",
        "plt.ylabel('Frequency')\n",
        "plt.show()\n"
      ]
    },
    {
      "cell_type": "markdown",
      "id": "a62d4bca",
      "metadata": {
        "id": "a62d4bca"
      },
      "source": [
        "###  High vs Normal App Usage Users"
      ]
    },
    {
      "cell_type": "code",
      "execution_count": null,
      "id": "db764faa",
      "metadata": {
        "colab": {
          "base_uri": "https://localhost:8080/",
          "height": 164
        },
        "id": "db764faa",
        "outputId": "84882af1-4c0b-4f9c-ab3e-17ed165bd085"
      },
      "outputs": [
        {
          "output_type": "display_data",
          "data": {
            "text/plain": [
              "<Waffle size 640x480 with 1 Axes>"
            ],
            "image/png": "[encoded data removed]"
          },
          "metadata": {}
        }
      ],
      "source": [
        "\n",
        "# Define threshold\n",
        "APP_USAGE_THRESHOLD = 180\n",
        "\n",
        "high_usage = df[df['App Usage Time (min/day)'] > APP_USAGE_THRESHOLD]['App Usage Time (min/day)'].count()\n",
        "normal_usage = df[df['App Usage Time (min/day)'] <= APP_USAGE_THRESHOLD]['App Usage Time (min/day)'].count()\n",
        "\n",
        "# Waffle plot\n",
        "fig = plt.figure(FigureClass=Waffle, rows=5, columns=20,\n",
        "    values={'High Usage': high_usage, 'Normal Usage': normal_usage},\n",
        "    colors=[\"#FF7F50\", \"#87CEFA\"],\n",
        "    title={'label': 'High vs Normal App Usage', 'loc': 'center'},\n",
        "    legend={'loc': 'upper left', 'bbox_to_anchor': (1, 1)}\n",
        ")\n",
        "plt.show()\n"
      ]
    },
    {
      "cell_type": "markdown",
      "id": "fab3d7b1",
      "metadata": {
        "id": "fab3d7b1"
      },
      "source": [
        "###  High vs Normal Battery Drain Users"
      ]
    },
    {
      "cell_type": "code",
      "execution_count": null,
      "id": "c16be590",
      "metadata": {
        "colab": {
          "base_uri": "https://localhost:8080/",
          "height": 151
        },
        "id": "c16be590",
        "outputId": "61c5aedb-f17e-4574-adaf-65b4fa22ee7a"
      },
      "outputs": [
        {
          "output_type": "display_data",
          "data": {
            "text/plain": [
              "<Waffle size 640x480 with 1 Axes>"
            ],
            "image/png": "[encoded data removed]"
          },
          "metadata": {}
        }
      ],
      "source": [
        "\n",
        "BATTERY_DRAIN_THRESHOLD = 2000\n",
        "\n",
        "high_battery = df[df['Battery Drain (mAh/day)'] > BATTERY_DRAIN_THRESHOLD]['Battery Drain (mAh/day)'].count()\n",
        "normal_battery = df[df['Battery Drain (mAh/day)'] <= BATTERY_DRAIN_THRESHOLD]['Battery Drain (mAh/day)'].count()\n",
        "\n",
        "# Waffle plot\n",
        "fig = plt.figure(FigureClass=Waffle, rows=5, columns=20,\n",
        "    values={'High Battery Drain': high_battery, 'Normal Battery Drain': normal_battery},\n",
        "    colors=[\"#20B2AA\", \"#F08080\"],\n",
        "    title={'label': 'High vs Normal Battery Drain', 'loc': 'center'},\n",
        "    legend={'loc': 'upper left', 'bbox_to_anchor': (1, 1)}\n",
        ")\n",
        "plt.show()\n"
      ]
    },
    {
      "cell_type": "markdown",
      "id": "74efafb3",
      "metadata": {
        "id": "74efafb3"
      },
      "source": [
        "##  Conclusion\n",
        "\n",
        "- Majority of users are Young Adults and Adults.\n",
        "- Samsung and iPhone dominate the device brands.\n",
        "- Most users have a normal app usage time and normal battery drain.\n",
        "- Waffle charts clearly visualize usage patterns.\n"
      ]
    }
  ],
  "metadata": {
    "colab": {
      "provenance": [],
      "include_colab_link": true
    },
    "language_info": {
      "name": "python"
    },
    "kernelspec": {
      "name": "python3",
      "display_name": "Python 3"
    }
  },
  "nbformat": 4,
  "nbformat_minor": 5
}